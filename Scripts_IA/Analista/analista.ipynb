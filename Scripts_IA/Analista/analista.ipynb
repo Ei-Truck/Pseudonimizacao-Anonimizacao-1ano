{
 "cells": [
  {
   "cell_type": "code",
   "execution_count": null,
   "id": "4483e6dc",
   "metadata": {},
   "outputs": [],
   "source": [
    "import os\n",
    "from dotenv import load_dotenv\n",
    "import pandas as pd\n",
    "from sqlalchemy import create_engine\n",
    "import bcrypt\n"
   ]
  },
  {
   "cell_type": "code",
   "execution_count": null,
   "id": "040a2bb0",
   "metadata": {},
   "outputs": [],
   "source": [
    "load_dotenv()\n",
    "\n",
    "DB_HOST = os.getenv(\"DB_HOST\")\n",
    "DB_PORT = os.getenv(\"DB_PORT\")\n",
    "DB_ENTRADA = os.getenv(\"DB_ENTRADA\")\n",
    "DB_SAI = os.getenv(\"DB_SAI\")\n",
    "DB_USER = os.getenv(\"DB_USER\")\n",
    "DB_PASSWORD = os.getenv(\"DB_PASSWORD\")\n",
    "\n",
    "ENTRADA = f\"postgresql://{DB_USER}:{DB_PASSWORD}@{DB_HOST}:{DB_PORT}/{DB_ENTRADA}\"\n",
    "SAIDA = f'postgresql://{DB_USER}:{DB_PASSWORD}@{DB_HOST}:{DB_PORT}/{DB_SAI}'\n",
    "\n",
    "engine_entrada = create_engine(ENTRADA)\n",
    "engine_saida = create_engine(SAIDA)\n",
    "\n",
    "\n",
    "query = \"SELECT * FROM Analista\"\n",
    "dados_originais_df = pd.read_sql(query, engine_entrada)\n",
    "df_anonimizado = dados_originais_df.copy()\n"
   ]
  },
  {
   "cell_type": "code",
   "execution_count": null,
   "id": "01ea203e",
   "metadata": {},
   "outputs": [],
   "source": [
    "df_anonimizado[\"nome_completo\"] = list(map(\n",
    "    lambda i: f\"Analista {i+1}\", \n",
    "    range(len(df_anonimizado))\n",
    "))\n",
    "\n",
    "#Imprime a anonimização \n",
    "print(\"==== Dados anonimizados ====\")\n",
    "display(df_anonimizado[['nome_completo']])\n",
    "\n"
   ]
  },
  {
   "cell_type": "code",
   "execution_count": null,
   "id": "31f498f1",
   "metadata": {},
   "outputs": [],
   "source": [
    "def criptografar(senha):\n",
    "    \n",
    "    salt = bcrypt.gensalt()\n",
    "    hash_senha = bcrypt.hashpw(senha.encode('utf-8'), salt)\n",
    "    return hash_senha.decode('utf-8')\n",
    "\n",
    "def verificar_senha(senha_digitada, senha_criptografada):\n",
    "\n",
    "    return bcrypt.checkpw(senha_digitada.encode('utf-8'), senha_criptografada.encode('utf-8'))\n",
    "\n",
    "\n",
    "df_anonimizado[\"senha\"] = df_anonimizado[\"senha\"].apply(criptografar)\n",
    "\n",
    "print(\"==== Dados anonimizados ====\")\n",
    "display(df_anonimizado[[\"senha\"]])\n",
    "\n",
    "\n",
    "\n"
   ]
  },
  {
   "cell_type": "code",
   "execution_count": null,
   "id": "feb365fd",
   "metadata": {},
   "outputs": [],
   "source": [
    "# toda vez que for rodar esse codigo, TEM QUE RODAR o load_dotenv ANTES!! TODAS AS VEZES!!\n",
    "def generalizar_data(dt):\n",
    "    if pd.isna(dt):\n",
    "        return \"Data inválida\"\n",
    "    \n",
    "    ano = dt.year  \n",
    "    if ano < 2020:\n",
    "        return \"Antes de 2020\"\n",
    "    elif ano <= 2024:\n",
    "        return \"Entre 2020–2024\"\n",
    "    else:\n",
    "        return \"Após 2024\"\n",
    "\n",
    "df_anonimizado[\"dt_contratacao\"] = df_anonimizado[\"dt_contratacao\"].apply(generalizar_data)\n",
    "display(df_anonimizado[[\"dt_contratacao\"]])\n",
    "\n",
    "\n"
   ]
  },
  {
   "cell_type": "code",
   "execution_count": null,
   "id": "85f3e4dc",
   "metadata": {},
   "outputs": [],
   "source": [
    "def anonimizar_cargo(cargo):\n",
    "   \n",
    "    texto = str(cargo).strip().replace(\" \", \"\").replace(\"-\", \"\")\n",
    "    return \"*\" * len(texto)\n",
    "\n",
    "\n",
    "df_anonimizado[\"cargo\"] = df_anonimizado[\"cargo\"].map(anonimizar_cargo)\n",
    "\n",
    "print(\"==== Dados anonimizados ====\")\n",
    "display(df_anonimizado[[\"cargo\"]])\n"
   ]
  },
  {
   "cell_type": "code",
   "execution_count": null,
   "id": "779d34ff",
   "metadata": {},
   "outputs": [],
   "source": [
    "def anonimizar_cpf(valor):\n",
    "    valor_str = str(valor)\n",
    "    valor_anonimizado = ''.join('*' if caractere.isdigit() else caractere for caractere in valor_str)\n",
    "    return valor_anonimizado\n",
    "\n",
    "df_anonimizado[\"cpf\"] = df_anonimizado[\"cpf\"].map(anonimizar_cpf)\n",
    "\n",
    "print(\"==== Dados anonimizados ====\")\n",
    "display(df_anonimizado[[\"cpf\"]])"
   ]
  },
  {
   "cell_type": "code",
   "execution_count": null,
   "id": "1a666433",
   "metadata": {},
   "outputs": [],
   "source": [
    "\n",
    "def pseudonimizar_email(email):\n",
    "    email = str(email)\n",
    "    parte_local, dominio = email.split(\"@\")\n",
    "  \n",
    "    if len(parte_local) > 3:\n",
    "        parte_local_pseudo = parte_local[:0] + \"****\"\n",
    "    else:\n",
    "        parte_local_pseudo = parte_local + \"****\"\n",
    "    return parte_local_pseudo + \"@\" + dominio\n",
    "\n",
    "df_anonimizado[\"email\"] = df_anonimizado[\"email\"].apply(pseudonimizar_email)\n",
    "\n",
    "print(\"==== Dados anonimizados ====\")\n",
    "display(df_anonimizado[[\"email\"]])\n"
   ]
  },
  {
   "cell_type": "code",
   "execution_count": null,
   "id": "a3664c5a",
   "metadata": {},
   "outputs": [],
   "source": [
    "def anonimizar_telefone(valor):\n",
    "    valor_str = str(valor)\n",
    "    valor_anonimizado = ''.join('*' if caractere.isdigit() else caractere for caractere in valor_str)\n",
    "    return valor_anonimizado\n",
    "\n",
    "df_anonimizado[\"telefone\"] = df_anonimizado[\"telefone\"].map(anonimizar_telefone)\n",
    "\n",
    "print(\"==== Dados anonimizados ====\")\n",
    "display(df_anonimizado[[\"telefone\"]])\n"
   ]
  },
  {
   "cell_type": "code",
   "execution_count": null,
   "id": "04656432",
   "metadata": {},
   "outputs": [],
   "source": [
    "def anonimizar_id_unidade(valor):\n",
    "    valor_str = str(valor)\n",
    "    valor_anonimizado = ''.join('*' if caractere.isdigit() else caractere for caractere in valor_str)\n",
    "    return valor_anonimizado\n",
    "\n",
    "df_anonimizado[\"id_unidade\"] = df_anonimizado[\"id_unidade\"].map(anonimizar_id_unidade)\n",
    "\n",
    "print(\"==== Dados anonimizados ====\")\n",
    "display(df_anonimizado[[\"id_unidade\"]])\n"
   ]
  },
  {
   "cell_type": "code",
   "execution_count": null,
   "id": "f1ba2913",
   "metadata": {},
   "outputs": [],
   "source": [
    "dados_originais_df.to_csv('original_analista.csv')\n",
    "df_anonimizado.to_csv('pseudo_analista.csv')"
   ]
  },
  {
   "cell_type": "code",
   "execution_count": null,
   "id": "c602e016",
   "metadata": {},
   "outputs": [],
   "source": [
    "df_anonimizado.to_sql(name='analista', con=engine_saida, if_exists='replace', index=False)"
   ]
  }
 ],
 "metadata": {
  "kernelspec": {
   "display_name": "base",
   "language": "python",
   "name": "python3"
  },
  "language_info": {
   "codemirror_mode": {
    "name": "ipython",
    "version": 3
   },
   "file_extension": ".py",
   "mimetype": "text/x-python",
   "name": "python",
   "nbconvert_exporter": "python",
   "pygments_lexer": "ipython3",
   "version": "3.11.4"
  }
 },
 "nbformat": 4,
 "nbformat_minor": 5
}
