{
 "cells": [
  {
   "cell_type": "code",
   "execution_count": 13,
   "id": "4483e6dc",
   "metadata": {},
   "outputs": [],
   "source": [
    "import os\n",
    "from dotenv import load_dotenv\n",
    "import pandas as pd\n",
    "from sqlalchemy import create_engine\n",
    "import bcrypt\n"
   ]
  },
  {
   "cell_type": "code",
   "execution_count": 14,
   "id": "040a2bb0",
   "metadata": {},
   "outputs": [],
   "source": [
    "load_dotenv()\n",
    "\n",
    "DB_HOST = os.getenv(\"DB_HOST\")\n",
    "DB_PORT = os.getenv(\"DB_PORT\")\n",
    "DB_ENTRADA = os.getenv(\"DB_ENTRADA\")\n",
    "DB_SAI = os.getenv(\"DB_SAI\")\n",
    "DB_USER = os.getenv(\"DB_USER\")\n",
    "DB_PASSWORD = os.getenv(\"DB_PASSWORD\")\n",
    "\n",
    "ENTRADA = f\"postgresql://{DB_USER}:{DB_PASSWORD}@{DB_HOST}:{DB_PORT}/{DB_ENTRADA}\"\n",
    "SAIDA = f'postgresql://{DB_USER}:{DB_PASSWORD}@{DB_HOST}:{DB_PORT}/{DB_SAI}'\n",
    "\n",
    "engine_entrada = create_engine(ENTRADA)\n",
    "engine_saida = create_engine(SAIDA)\n",
    "\n",
    "\n",
    "query = \"SELECT * FROM Analista\"\n",
    "dados_originais_df = pd.read_sql(query, engine_entrada)\n",
    "df_anonimizado = dados_originais_df.copy()\n"
   ]
  },
  {
   "cell_type": "code",
   "execution_count": 15,
   "id": "01ea203e",
   "metadata": {},
   "outputs": [
    {
     "name": "stdout",
     "output_type": "stream",
     "text": [
      "==== Dados anonimizados ====\n"
     ]
    },
    {
     "data": {
      "text/html": [
       "<div>\n",
       "<style scoped>\n",
       "    .dataframe tbody tr th:only-of-type {\n",
       "        vertical-align: middle;\n",
       "    }\n",
       "\n",
       "    .dataframe tbody tr th {\n",
       "        vertical-align: top;\n",
       "    }\n",
       "\n",
       "    .dataframe thead th {\n",
       "        text-align: right;\n",
       "    }\n",
       "</style>\n",
       "<table border=\"1\" class=\"dataframe\">\n",
       "  <thead>\n",
       "    <tr style=\"text-align: right;\">\n",
       "      <th></th>\n",
       "      <th>nome_completo</th>\n",
       "    </tr>\n",
       "  </thead>\n",
       "  <tbody>\n",
       "    <tr>\n",
       "      <th>0</th>\n",
       "      <td>Analista 1</td>\n",
       "    </tr>\n",
       "    <tr>\n",
       "      <th>1</th>\n",
       "      <td>Analista 2</td>\n",
       "    </tr>\n",
       "    <tr>\n",
       "      <th>2</th>\n",
       "      <td>Analista 3</td>\n",
       "    </tr>\n",
       "    <tr>\n",
       "      <th>3</th>\n",
       "      <td>Analista 4</td>\n",
       "    </tr>\n",
       "    <tr>\n",
       "      <th>4</th>\n",
       "      <td>Analista 5</td>\n",
       "    </tr>\n",
       "  </tbody>\n",
       "</table>\n",
       "</div>"
      ],
      "text/plain": [
       "  nome_completo\n",
       "0    Analista 1\n",
       "1    Analista 2\n",
       "2    Analista 3\n",
       "3    Analista 4\n",
       "4    Analista 5"
      ]
     },
     "metadata": {},
     "output_type": "display_data"
    }
   ],
   "source": [
    "df_anonimizado[\"nome_completo\"] = list(map(\n",
    "    lambda i: f\"Analista {i+1}\", \n",
    "    range(len(df_anonimizado))\n",
    "))\n",
    "\n",
    "#Imprime a anonimização \n",
    "print(\"==== Dados anonimizados ====\")\n",
    "display(df_anonimizado[['nome_completo']])\n",
    "\n"
   ]
  },
  {
   "cell_type": "code",
   "execution_count": 16,
   "id": "31f498f1",
   "metadata": {},
   "outputs": [
    {
     "name": "stdout",
     "output_type": "stream",
     "text": [
      "==== Dados anonimizados ====\n"
     ]
    },
    {
     "data": {
      "text/html": [
       "<div>\n",
       "<style scoped>\n",
       "    .dataframe tbody tr th:only-of-type {\n",
       "        vertical-align: middle;\n",
       "    }\n",
       "\n",
       "    .dataframe tbody tr th {\n",
       "        vertical-align: top;\n",
       "    }\n",
       "\n",
       "    .dataframe thead th {\n",
       "        text-align: right;\n",
       "    }\n",
       "</style>\n",
       "<table border=\"1\" class=\"dataframe\">\n",
       "  <thead>\n",
       "    <tr style=\"text-align: right;\">\n",
       "      <th></th>\n",
       "      <th>senha</th>\n",
       "    </tr>\n",
       "  </thead>\n",
       "  <tbody>\n",
       "    <tr>\n",
       "      <th>0</th>\n",
       "      <td>$2b$12$nb4GHm/vG.TAzIoHPGMu5ePr/V7qqRYcnuQZGjK...</td>\n",
       "    </tr>\n",
       "    <tr>\n",
       "      <th>1</th>\n",
       "      <td>$2b$12$8Cm59f1EnonkqetGi2YZ8.sIWPJldFk4v/Gotor...</td>\n",
       "    </tr>\n",
       "    <tr>\n",
       "      <th>2</th>\n",
       "      <td>$2b$12$nsoIz7Gh17n8oOmwSHMfl.wik1Yyl4p.RPcWxHG...</td>\n",
       "    </tr>\n",
       "    <tr>\n",
       "      <th>3</th>\n",
       "      <td>$2b$12$E4JdbKVI3DJ95OKMTBqOH.kFYTVp3MsTu5iy4hc...</td>\n",
       "    </tr>\n",
       "    <tr>\n",
       "      <th>4</th>\n",
       "      <td>$2b$12$rcItoHAbsgzlaTz2VVyed.yFGwuKvFzvt5hUHeT...</td>\n",
       "    </tr>\n",
       "  </tbody>\n",
       "</table>\n",
       "</div>"
      ],
      "text/plain": [
       "                                               senha\n",
       "0  $2b$12$nb4GHm/vG.TAzIoHPGMu5ePr/V7qqRYcnuQZGjK...\n",
       "1  $2b$12$8Cm59f1EnonkqetGi2YZ8.sIWPJldFk4v/Gotor...\n",
       "2  $2b$12$nsoIz7Gh17n8oOmwSHMfl.wik1Yyl4p.RPcWxHG...\n",
       "3  $2b$12$E4JdbKVI3DJ95OKMTBqOH.kFYTVp3MsTu5iy4hc...\n",
       "4  $2b$12$rcItoHAbsgzlaTz2VVyed.yFGwuKvFzvt5hUHeT..."
      ]
     },
     "metadata": {},
     "output_type": "display_data"
    }
   ],
   "source": [
    "def criptografar(senha):\n",
    "    \n",
    "    salt = bcrypt.gensalt()\n",
    "    hash_senha = bcrypt.hashpw(senha.encode('utf-8'), salt)\n",
    "    return hash_senha.decode('utf-8')\n",
    "\n",
    "def verificar_senha(senha_digitada, senha_criptografada):\n",
    "\n",
    "    return bcrypt.checkpw(senha_digitada.encode('utf-8'), senha_criptografada.encode('utf-8'))\n",
    "\n",
    "\n",
    "df_anonimizado[\"senha\"] = df_anonimizado[\"senha\"].apply(criptografar)\n",
    "\n",
    "print(\"==== Dados anonimizados ====\")\n",
    "display(df_anonimizado[[\"senha\"]])\n",
    "\n",
    "\n",
    "\n"
   ]
  },
  {
   "cell_type": "code",
   "execution_count": 17,
   "id": "feb365fd",
   "metadata": {},
   "outputs": [
    {
     "data": {
      "text/html": [
       "<div>\n",
       "<style scoped>\n",
       "    .dataframe tbody tr th:only-of-type {\n",
       "        vertical-align: middle;\n",
       "    }\n",
       "\n",
       "    .dataframe tbody tr th {\n",
       "        vertical-align: top;\n",
       "    }\n",
       "\n",
       "    .dataframe thead th {\n",
       "        text-align: right;\n",
       "    }\n",
       "</style>\n",
       "<table border=\"1\" class=\"dataframe\">\n",
       "  <thead>\n",
       "    <tr style=\"text-align: right;\">\n",
       "      <th></th>\n",
       "      <th>dt_contratacao</th>\n",
       "    </tr>\n",
       "  </thead>\n",
       "  <tbody>\n",
       "    <tr>\n",
       "      <th>0</th>\n",
       "      <td>Entre 2020–2024</td>\n",
       "    </tr>\n",
       "    <tr>\n",
       "      <th>1</th>\n",
       "      <td>Entre 2020–2024</td>\n",
       "    </tr>\n",
       "    <tr>\n",
       "      <th>2</th>\n",
       "      <td>Entre 2020–2024</td>\n",
       "    </tr>\n",
       "    <tr>\n",
       "      <th>3</th>\n",
       "      <td>Entre 2020–2024</td>\n",
       "    </tr>\n",
       "    <tr>\n",
       "      <th>4</th>\n",
       "      <td>Entre 2020–2024</td>\n",
       "    </tr>\n",
       "  </tbody>\n",
       "</table>\n",
       "</div>"
      ],
      "text/plain": [
       "    dt_contratacao\n",
       "0  Entre 2020–2024\n",
       "1  Entre 2020–2024\n",
       "2  Entre 2020–2024\n",
       "3  Entre 2020–2024\n",
       "4  Entre 2020–2024"
      ]
     },
     "metadata": {},
     "output_type": "display_data"
    }
   ],
   "source": [
    "# toda vez que for rodar esse codigo, TEM QUE RODAR o load_dotenv ANTES!! TODAS AS VEZES!!\n",
    "def generalizar_data(dt):\n",
    "    if pd.isna(dt):\n",
    "        return \"Data inválida\"\n",
    "    \n",
    "    ano = dt.year  \n",
    "    if ano < 2020:\n",
    "        return \"Antes de 2020\"\n",
    "    elif ano <= 2024:\n",
    "        return \"Entre 2020–2024\"\n",
    "    else:\n",
    "        return \"Após 2024\"\n",
    "\n",
    "df_anonimizado[\"dt_contratacao\"] = df_anonimizado[\"dt_contratacao\"].apply(generalizar_data)\n",
    "display(df_anonimizado[[\"dt_contratacao\"]])\n",
    "\n",
    "\n"
   ]
  },
  {
   "cell_type": "code",
   "execution_count": 18,
   "id": "85f3e4dc",
   "metadata": {},
   "outputs": [
    {
     "name": "stdout",
     "output_type": "stream",
     "text": [
      "==== Dados anonimizados ====\n"
     ]
    },
    {
     "data": {
      "text/html": [
       "<div>\n",
       "<style scoped>\n",
       "    .dataframe tbody tr th:only-of-type {\n",
       "        vertical-align: middle;\n",
       "    }\n",
       "\n",
       "    .dataframe tbody tr th {\n",
       "        vertical-align: top;\n",
       "    }\n",
       "\n",
       "    .dataframe thead th {\n",
       "        text-align: right;\n",
       "    }\n",
       "</style>\n",
       "<table border=\"1\" class=\"dataframe\">\n",
       "  <thead>\n",
       "    <tr style=\"text-align: right;\">\n",
       "      <th></th>\n",
       "      <th>cargo</th>\n",
       "    </tr>\n",
       "  </thead>\n",
       "  <tbody>\n",
       "    <tr>\n",
       "      <th>0</th>\n",
       "      <td>*************</td>\n",
       "    </tr>\n",
       "    <tr>\n",
       "      <th>1</th>\n",
       "      <td>****************</td>\n",
       "    </tr>\n",
       "    <tr>\n",
       "      <th>2</th>\n",
       "      <td>****************</td>\n",
       "    </tr>\n",
       "    <tr>\n",
       "      <th>3</th>\n",
       "      <td>****************</td>\n",
       "    </tr>\n",
       "    <tr>\n",
       "      <th>4</th>\n",
       "      <td>*************</td>\n",
       "    </tr>\n",
       "  </tbody>\n",
       "</table>\n",
       "</div>"
      ],
      "text/plain": [
       "              cargo\n",
       "0     *************\n",
       "1  ****************\n",
       "2  ****************\n",
       "3  ****************\n",
       "4     *************"
      ]
     },
     "metadata": {},
     "output_type": "display_data"
    }
   ],
   "source": [
    "def anonimizar_cargo(cargo):\n",
    "   \n",
    "    texto = str(cargo).strip().replace(\" \", \"\").replace(\"-\", \"\")\n",
    "    return \"*\" * len(texto)\n",
    "\n",
    "\n",
    "df_anonimizado[\"cargo\"] = df_anonimizado[\"cargo\"].map(anonimizar_cargo)\n",
    "\n",
    "print(\"==== Dados anonimizados ====\")\n",
    "display(df_anonimizado[[\"cargo\"]])\n"
   ]
  },
  {
   "cell_type": "code",
   "execution_count": 19,
   "id": "779d34ff",
   "metadata": {},
   "outputs": [
    {
     "name": "stdout",
     "output_type": "stream",
     "text": [
      "==== Dados anonimizados ====\n"
     ]
    },
    {
     "data": {
      "text/html": [
       "<div>\n",
       "<style scoped>\n",
       "    .dataframe tbody tr th:only-of-type {\n",
       "        vertical-align: middle;\n",
       "    }\n",
       "\n",
       "    .dataframe tbody tr th {\n",
       "        vertical-align: top;\n",
       "    }\n",
       "\n",
       "    .dataframe thead th {\n",
       "        text-align: right;\n",
       "    }\n",
       "</style>\n",
       "<table border=\"1\" class=\"dataframe\">\n",
       "  <thead>\n",
       "    <tr style=\"text-align: right;\">\n",
       "      <th></th>\n",
       "      <th>cpf</th>\n",
       "    </tr>\n",
       "  </thead>\n",
       "  <tbody>\n",
       "    <tr>\n",
       "      <th>0</th>\n",
       "      <td>***********</td>\n",
       "    </tr>\n",
       "    <tr>\n",
       "      <th>1</th>\n",
       "      <td>***********</td>\n",
       "    </tr>\n",
       "    <tr>\n",
       "      <th>2</th>\n",
       "      <td>***********</td>\n",
       "    </tr>\n",
       "    <tr>\n",
       "      <th>3</th>\n",
       "      <td>***********</td>\n",
       "    </tr>\n",
       "    <tr>\n",
       "      <th>4</th>\n",
       "      <td>***********</td>\n",
       "    </tr>\n",
       "  </tbody>\n",
       "</table>\n",
       "</div>"
      ],
      "text/plain": [
       "           cpf\n",
       "0  ***********\n",
       "1  ***********\n",
       "2  ***********\n",
       "3  ***********\n",
       "4  ***********"
      ]
     },
     "metadata": {},
     "output_type": "display_data"
    }
   ],
   "source": [
    "def anonimizar_cpf(valor):\n",
    "    valor_str = str(valor)\n",
    "    valor_anonimizado = ''.join('*' if caractere.isdigit() else caractere for caractere in valor_str)\n",
    "    return valor_anonimizado\n",
    "\n",
    "df_anonimizado[\"cpf\"] = df_anonimizado[\"cpf\"].map(anonimizar_cpf)\n",
    "\n",
    "print(\"==== Dados anonimizados ====\")\n",
    "display(df_anonimizado[[\"cpf\"]])"
   ]
  },
  {
   "cell_type": "code",
   "execution_count": 20,
   "id": "1a666433",
   "metadata": {},
   "outputs": [
    {
     "name": "stdout",
     "output_type": "stream",
     "text": [
      "==== Dados anonimizados ====\n"
     ]
    },
    {
     "data": {
      "text/html": [
       "<div>\n",
       "<style scoped>\n",
       "    .dataframe tbody tr th:only-of-type {\n",
       "        vertical-align: middle;\n",
       "    }\n",
       "\n",
       "    .dataframe tbody tr th {\n",
       "        vertical-align: top;\n",
       "    }\n",
       "\n",
       "    .dataframe thead th {\n",
       "        text-align: right;\n",
       "    }\n",
       "</style>\n",
       "<table border=\"1\" class=\"dataframe\">\n",
       "  <thead>\n",
       "    <tr style=\"text-align: right;\">\n",
       "      <th></th>\n",
       "      <th>email</th>\n",
       "    </tr>\n",
       "  </thead>\n",
       "  <tbody>\n",
       "    <tr>\n",
       "      <th>0</th>\n",
       "      <td>****@eitruck.com</td>\n",
       "    </tr>\n",
       "    <tr>\n",
       "      <th>1</th>\n",
       "      <td>****@eitruck.com</td>\n",
       "    </tr>\n",
       "    <tr>\n",
       "      <th>2</th>\n",
       "      <td>****@eitruck.com</td>\n",
       "    </tr>\n",
       "    <tr>\n",
       "      <th>3</th>\n",
       "      <td>****@eitruck.com</td>\n",
       "    </tr>\n",
       "    <tr>\n",
       "      <th>4</th>\n",
       "      <td>****@eitruck.com</td>\n",
       "    </tr>\n",
       "  </tbody>\n",
       "</table>\n",
       "</div>"
      ],
      "text/plain": [
       "              email\n",
       "0  ****@eitruck.com\n",
       "1  ****@eitruck.com\n",
       "2  ****@eitruck.com\n",
       "3  ****@eitruck.com\n",
       "4  ****@eitruck.com"
      ]
     },
     "metadata": {},
     "output_type": "display_data"
    }
   ],
   "source": [
    "\n",
    "def pseudonimizar_email(email):\n",
    "    email = str(email)\n",
    "    parte_local, dominio = email.split(\"@\")\n",
    "  \n",
    "    if len(parte_local) > 3:\n",
    "        parte_local_pseudo = parte_local[:0] + \"****\"\n",
    "    else:\n",
    "        parte_local_pseudo = parte_local + \"****\"\n",
    "    return parte_local_pseudo + \"@\" + dominio\n",
    "\n",
    "df_anonimizado[\"email\"] = df_anonimizado[\"email\"].apply(pseudonimizar_email)\n",
    "\n",
    "print(\"==== Dados anonimizados ====\")\n",
    "display(df_anonimizado[[\"email\"]])\n"
   ]
  },
  {
   "cell_type": "code",
   "execution_count": 21,
   "id": "a3664c5a",
   "metadata": {},
   "outputs": [
    {
     "name": "stdout",
     "output_type": "stream",
     "text": [
      "==== Dados anonimizados ====\n"
     ]
    },
    {
     "data": {
      "text/html": [
       "<div>\n",
       "<style scoped>\n",
       "    .dataframe tbody tr th:only-of-type {\n",
       "        vertical-align: middle;\n",
       "    }\n",
       "\n",
       "    .dataframe tbody tr th {\n",
       "        vertical-align: top;\n",
       "    }\n",
       "\n",
       "    .dataframe thead th {\n",
       "        text-align: right;\n",
       "    }\n",
       "</style>\n",
       "<table border=\"1\" class=\"dataframe\">\n",
       "  <thead>\n",
       "    <tr style=\"text-align: right;\">\n",
       "      <th></th>\n",
       "      <th>telefone</th>\n",
       "    </tr>\n",
       "  </thead>\n",
       "  <tbody>\n",
       "    <tr>\n",
       "      <th>0</th>\n",
       "      <td>***********</td>\n",
       "    </tr>\n",
       "    <tr>\n",
       "      <th>1</th>\n",
       "      <td>***********</td>\n",
       "    </tr>\n",
       "    <tr>\n",
       "      <th>2</th>\n",
       "      <td>***********</td>\n",
       "    </tr>\n",
       "    <tr>\n",
       "      <th>3</th>\n",
       "      <td>***********</td>\n",
       "    </tr>\n",
       "    <tr>\n",
       "      <th>4</th>\n",
       "      <td>***********</td>\n",
       "    </tr>\n",
       "  </tbody>\n",
       "</table>\n",
       "</div>"
      ],
      "text/plain": [
       "      telefone\n",
       "0  ***********\n",
       "1  ***********\n",
       "2  ***********\n",
       "3  ***********\n",
       "4  ***********"
      ]
     },
     "metadata": {},
     "output_type": "display_data"
    }
   ],
   "source": [
    "def anonimizar_telefone(valor):\n",
    "    valor_str = str(valor)\n",
    "    valor_anonimizado = ''.join('*' if caractere.isdigit() else caractere for caractere in valor_str)\n",
    "    return valor_anonimizado\n",
    "\n",
    "df_anonimizado[\"telefone\"] = df_anonimizado[\"telefone\"].map(anonimizar_telefone)\n",
    "\n",
    "print(\"==== Dados anonimizados ====\")\n",
    "display(df_anonimizado[[\"telefone\"]])\n"
   ]
  },
  {
   "cell_type": "code",
   "execution_count": 22,
   "id": "04656432",
   "metadata": {},
   "outputs": [
    {
     "name": "stdout",
     "output_type": "stream",
     "text": [
      "==== Dados anonimizados ====\n"
     ]
    },
    {
     "data": {
      "text/html": [
       "<div>\n",
       "<style scoped>\n",
       "    .dataframe tbody tr th:only-of-type {\n",
       "        vertical-align: middle;\n",
       "    }\n",
       "\n",
       "    .dataframe tbody tr th {\n",
       "        vertical-align: top;\n",
       "    }\n",
       "\n",
       "    .dataframe thead th {\n",
       "        text-align: right;\n",
       "    }\n",
       "</style>\n",
       "<table border=\"1\" class=\"dataframe\">\n",
       "  <thead>\n",
       "    <tr style=\"text-align: right;\">\n",
       "      <th></th>\n",
       "      <th>id_unidade</th>\n",
       "    </tr>\n",
       "  </thead>\n",
       "  <tbody>\n",
       "    <tr>\n",
       "      <th>0</th>\n",
       "      <td>*</td>\n",
       "    </tr>\n",
       "    <tr>\n",
       "      <th>1</th>\n",
       "      <td>*</td>\n",
       "    </tr>\n",
       "    <tr>\n",
       "      <th>2</th>\n",
       "      <td>*</td>\n",
       "    </tr>\n",
       "    <tr>\n",
       "      <th>3</th>\n",
       "      <td>*</td>\n",
       "    </tr>\n",
       "    <tr>\n",
       "      <th>4</th>\n",
       "      <td>*</td>\n",
       "    </tr>\n",
       "  </tbody>\n",
       "</table>\n",
       "</div>"
      ],
      "text/plain": [
       "  id_unidade\n",
       "0          *\n",
       "1          *\n",
       "2          *\n",
       "3          *\n",
       "4          *"
      ]
     },
     "metadata": {},
     "output_type": "display_data"
    }
   ],
   "source": [
    "def anonimizar_id_unidade(valor):\n",
    "    valor_str = str(valor)\n",
    "    valor_anonimizado = ''.join('*' if caractere.isdigit() else caractere for caractere in valor_str)\n",
    "    return valor_anonimizado\n",
    "\n",
    "df_anonimizado[\"id_unidade\"] = df_anonimizado[\"id_unidade\"].map(anonimizar_id_unidade)\n",
    "\n",
    "print(\"==== Dados anonimizados ====\")\n",
    "display(df_anonimizado[[\"id_unidade\"]])\n"
   ]
  },
  {
   "cell_type": "code",
   "execution_count": 23,
   "id": "585e8877",
   "metadata": {},
   "outputs": [
    {
     "data": {
      "text/html": [
       "<div>\n",
       "<style scoped>\n",
       "    .dataframe tbody tr th:only-of-type {\n",
       "        vertical-align: middle;\n",
       "    }\n",
       "\n",
       "    .dataframe tbody tr th {\n",
       "        vertical-align: top;\n",
       "    }\n",
       "\n",
       "    .dataframe thead th {\n",
       "        text-align: right;\n",
       "    }\n",
       "</style>\n",
       "<table border=\"1\" class=\"dataframe\">\n",
       "  <thead>\n",
       "    <tr style=\"text-align: right;\">\n",
       "      <th></th>\n",
       "      <th>id</th>\n",
       "      <th>id_unidade</th>\n",
       "      <th>cpf</th>\n",
       "      <th>dt_contratacao</th>\n",
       "      <th>nome_completo</th>\n",
       "      <th>email</th>\n",
       "      <th>senha</th>\n",
       "      <th>cargo</th>\n",
       "      <th>telefone</th>\n",
       "    </tr>\n",
       "  </thead>\n",
       "  <tbody>\n",
       "    <tr>\n",
       "      <th>0</th>\n",
       "      <td>1</td>\n",
       "      <td>*</td>\n",
       "      <td>***********</td>\n",
       "      <td>Entre 2020–2024</td>\n",
       "      <td>Analista 1</td>\n",
       "      <td>****@eitruck.com</td>\n",
       "      <td>$2b$12$nb4GHm/vG.TAzIoHPGMu5ePr/V7qqRYcnuQZGjK...</td>\n",
       "      <td>*************</td>\n",
       "      <td>***********</td>\n",
       "    </tr>\n",
       "    <tr>\n",
       "      <th>1</th>\n",
       "      <td>2</td>\n",
       "      <td>*</td>\n",
       "      <td>***********</td>\n",
       "      <td>Entre 2020–2024</td>\n",
       "      <td>Analista 2</td>\n",
       "      <td>****@eitruck.com</td>\n",
       "      <td>$2b$12$8Cm59f1EnonkqetGi2YZ8.sIWPJldFk4v/Gotor...</td>\n",
       "      <td>****************</td>\n",
       "      <td>***********</td>\n",
       "    </tr>\n",
       "    <tr>\n",
       "      <th>2</th>\n",
       "      <td>3</td>\n",
       "      <td>*</td>\n",
       "      <td>***********</td>\n",
       "      <td>Entre 2020–2024</td>\n",
       "      <td>Analista 3</td>\n",
       "      <td>****@eitruck.com</td>\n",
       "      <td>$2b$12$nsoIz7Gh17n8oOmwSHMfl.wik1Yyl4p.RPcWxHG...</td>\n",
       "      <td>****************</td>\n",
       "      <td>***********</td>\n",
       "    </tr>\n",
       "    <tr>\n",
       "      <th>3</th>\n",
       "      <td>4</td>\n",
       "      <td>*</td>\n",
       "      <td>***********</td>\n",
       "      <td>Entre 2020–2024</td>\n",
       "      <td>Analista 4</td>\n",
       "      <td>****@eitruck.com</td>\n",
       "      <td>$2b$12$E4JdbKVI3DJ95OKMTBqOH.kFYTVp3MsTu5iy4hc...</td>\n",
       "      <td>****************</td>\n",
       "      <td>***********</td>\n",
       "    </tr>\n",
       "    <tr>\n",
       "      <th>4</th>\n",
       "      <td>5</td>\n",
       "      <td>*</td>\n",
       "      <td>***********</td>\n",
       "      <td>Entre 2020–2024</td>\n",
       "      <td>Analista 5</td>\n",
       "      <td>****@eitruck.com</td>\n",
       "      <td>$2b$12$rcItoHAbsgzlaTz2VVyed.yFGwuKvFzvt5hUHeT...</td>\n",
       "      <td>*************</td>\n",
       "      <td>***********</td>\n",
       "    </tr>\n",
       "  </tbody>\n",
       "</table>\n",
       "</div>"
      ],
      "text/plain": [
       "   id id_unidade          cpf   dt_contratacao nome_completo  \\\n",
       "0   1          *  ***********  Entre 2020–2024    Analista 1   \n",
       "1   2          *  ***********  Entre 2020–2024    Analista 2   \n",
       "2   3          *  ***********  Entre 2020–2024    Analista 3   \n",
       "3   4          *  ***********  Entre 2020–2024    Analista 4   \n",
       "4   5          *  ***********  Entre 2020–2024    Analista 5   \n",
       "\n",
       "              email                                              senha  \\\n",
       "0  ****@eitruck.com  $2b$12$nb4GHm/vG.TAzIoHPGMu5ePr/V7qqRYcnuQZGjK...   \n",
       "1  ****@eitruck.com  $2b$12$8Cm59f1EnonkqetGi2YZ8.sIWPJldFk4v/Gotor...   \n",
       "2  ****@eitruck.com  $2b$12$nsoIz7Gh17n8oOmwSHMfl.wik1Yyl4p.RPcWxHG...   \n",
       "3  ****@eitruck.com  $2b$12$E4JdbKVI3DJ95OKMTBqOH.kFYTVp3MsTu5iy4hc...   \n",
       "4  ****@eitruck.com  $2b$12$rcItoHAbsgzlaTz2VVyed.yFGwuKvFzvt5hUHeT...   \n",
       "\n",
       "              cargo     telefone  \n",
       "0     *************  ***********  \n",
       "1  ****************  ***********  \n",
       "2  ****************  ***********  \n",
       "3  ****************  ***********  \n",
       "4     *************  ***********  "
      ]
     },
     "metadata": {},
     "output_type": "display_data"
    }
   ],
   "source": [
    "display(df_anonimizado)"
   ]
  },
  {
   "cell_type": "code",
   "execution_count": 66,
   "id": "f1ba2913",
   "metadata": {},
   "outputs": [],
   "source": [
    "dados_originais_df.to_csv('original_analista.csv')\n",
    "df_anonimizado.to_csv('pseudo_analista.csv')"
   ]
  },
  {
   "cell_type": "code",
   "execution_count": 12,
   "id": "c602e016",
   "metadata": {},
   "outputs": [
    {
     "data": {
      "text/plain": [
       "5"
      ]
     },
     "execution_count": 24,
     "metadata": {},
     "output_type": "execute_result"
    }
   ],
   "source": [
    "df_anonimizado.to_sql(name='analista', con=engine_saida, if_exists='replace', index=False)"
   ]
  }
 ],
 "metadata": {
  "kernelspec": {
   "display_name": "base",
   "language": "python",
   "name": "python3"
  },
  "language_info": {
   "codemirror_mode": {
    "name": "ipython",
    "version": 3
   },
   "file_extension": ".py",
   "mimetype": "text/x-python",
   "name": "python",
   "nbconvert_exporter": "python",
   "pygments_lexer": "ipython3",
   "version": "3.11.4"
  }
 },
 "nbformat": 4,
 "nbformat_minor": 5
}
