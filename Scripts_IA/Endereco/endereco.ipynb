{
 "cells": [
  {
   "cell_type": "code",
   "execution_count": 30,
   "id": "5bfd3253",
   "metadata": {},
   "outputs": [],
   "source": [
    "import os\n",
    "from dotenv import load_dotenv\n",
    "import pandas as pd\n",
    "from sqlalchemy import create_engine\n",
    "from IPython.display import display\n"
   ]
  },
  {
   "cell_type": "code",
   "execution_count": 38,
   "id": "aa744eeb",
   "metadata": {},
   "outputs": [],
   "source": [
    "\n",
    "load_dotenv()\n",
    "\n",
    "DB_HOST = os.getenv(\"DB_HOST\")\n",
    "DB_PORT = os.getenv(\"DB_PORT\")\n",
    "DB_ENTRADA = os.getenv(\"DB_ENTRADA\")\n",
    "DB_SAI = os.getenv(\"DB_SAI\")\n",
    "DB_USER = os.getenv(\"DB_USER\")\n",
    "DB_PASSWORD = os.getenv(\"DB_PASSWORD\")\n",
    "\n",
    "ENTRADA = f\"postgresql://{DB_USER}:{DB_PASSWORD}@{DB_HOST}:{DB_PORT}/{DB_ENTRADA}\"\n",
    "SAIDA = f'postgresql://{DB_USER}:{DB_PASSWORD}@{DB_HOST}:{DB_PORT}/{DB_SAI}'\n",
    "\n",
    "engine_entrada = create_engine(ENTRADA)\n",
    "engine_saida = create_engine(SAIDA)\n",
    "\n",
    "\n",
    "query = \"SELECT * FROM endereco\"\n",
    "dados_originais_df = pd.read_sql(query, engine_entrada)\n",
    "df_anonimizado = dados_originais_df.copy()\n"
   ]
  },
  {
   "cell_type": "code",
   "execution_count": 39,
   "id": "9c0ab63a",
   "metadata": {},
   "outputs": [],
   "source": [
    "def generalizar_rua(rua):\n",
    "    if not isinstance(rua, str):\n",
    "        return \"Rua desconhecida\"\n",
    "    tipo = rua.split()[0]  \n",
    "    return f\"{tipo} X\"\n",
    "\n",
    "df_anonimizado[\"rua\"] = df_anonimizado[\"rua\"].map(generalizar_rua)\n",
    "\n"
   ]
  },
  {
   "cell_type": "code",
   "execution_count": 40,
   "id": "9989a07f",
   "metadata": {},
   "outputs": [],
   "source": [
    "def generalizar_cidade(cidade):\n",
    "    if not isinstance(cidade, str):\n",
    "        return \"Cidade desconhecida\"\n",
    "    tipo = cidade.split()[0]  \n",
    "    return f\"Cidade X\"\n",
    "\n",
    "df_anonimizado[\"cidade\"] = df_anonimizado[\"cidade\"].map(generalizar_cidade)\n"
   ]
  },
  {
   "cell_type": "code",
   "execution_count": 41,
   "id": "87e4f3da",
   "metadata": {},
   "outputs": [],
   "source": [
    "def anonimizar_numero(numero, chave):\n",
    "    numero = str(numero)\n",
    "    chave = str(chave).lower()\n",
    "    i = 0\n",
    "    for l in numero:\n",
    "        return \"*****\"\n",
    "\n",
    "chave = 5\n",
    "\n",
    "df_anonimizado[\"numero\"] = df_anonimizado[\"numero\"].apply(lambda x: anonimizar_numero(x, chave))\n",
    "\n"
   ]
  },
  {
   "cell_type": "code",
   "execution_count": 42,
   "id": "fb2e072f",
   "metadata": {},
   "outputs": [],
   "source": [
    "def abstracao_pais(pais):\n",
    "    \n",
    "    pais= pais.strip()\n",
    "\n",
    "    uf = pais[:2].upper()\n",
    "    return f\"{uf}\"\n",
    "\n",
    "df_anonimizado[\"pais\"] = df_anonimizado[\"pais\"].apply(abstracao_pais)\n"
   ]
  },
  {
   "cell_type": "code",
   "execution_count": 43,
   "id": "f22a5c80",
   "metadata": {},
   "outputs": [],
   "source": [
    "bairro_para_regiao = {\n",
    "    \"Bela Vista\": \"Centro\",\n",
    "    \"Vila Mariana\": \"Zona Sul\",\n",
    "    \"Pinheiros\": \"Zona Oeste\",\n",
    "    \"Vila Carrão\": \"Zona Leste\",\n",
    "    \"Mooca\": \"Zona Leste\"\n",
    "}\n",
    "\n",
    "\n",
    "df_anonimizado[\"bairro\"] = df_anonimizado[\"bairro\"].map(bairro_para_regiao)\n",
    "\n",
    "df_anonimizado[\"bairro\"] = df_anonimizado[\"bairro\"].fillna(\"Região desconhecida\")\n",
    "\n"
   ]
  },
  {
   "cell_type": "code",
   "execution_count": 44,
   "id": "5dbdb44b",
   "metadata": {},
   "outputs": [],
   "source": [
    "def anonimizar_digitos(valor):\n",
    "    valor_str = str(valor)\n",
    "    valor_anonimizado = ''.join('*' if caractere.isdigit() else caractere for caractere in valor_str)\n",
    "    return valor_anonimizado\n",
    "\n",
    "df_anonimizado[\"cep\"] = df_anonimizado[\"cep\"].map(anonimizar_digitos)\n"
   ]
  },
  {
   "cell_type": "code",
   "execution_count": 46,
   "id": "54b3e4c0",
   "metadata": {},
   "outputs": [
    {
     "data": {
      "text/plain": [
       "5"
      ]
     },
     "execution_count": 46,
     "metadata": {},
     "output_type": "execute_result"
    }
   ],
   "source": [
    "from sqlalchemy import text\n",
    "\n",
    "with engine_saida.begin() as conn:\n",
    "    # por depender de outras tabelas, limpa a tabela sem quebrar FK e reinicia o ID\n",
    "    conn.execute(text(\"TRUNCATE TABLE endereco RESTART IDENTITY CASCADE\"))\n",
    "\n",
    "df_anonimizado.to_sql(name='endereco', con=engine_saida, if_exists='append', index=False)\n",
    "\n"
   ]
  },
  {
   "cell_type": "code",
   "execution_count": 13,
   "id": "1b5423f4",
   "metadata": {},
   "outputs": [],
   "source": [
    "#mandar para o csv\n",
    "dados_originais_df.to_csv('original_endereco.csv')\n",
    "df_anonimizado.to_csv('pseudo_endereco.csv')"
   ]
  }
 ],
 "metadata": {
  "kernelspec": {
   "display_name": "base",
   "language": "python",
   "name": "python3"
  },
  "language_info": {
   "codemirror_mode": {
    "name": "ipython",
    "version": 3
   },
   "file_extension": ".py",
   "mimetype": "text/x-python",
   "name": "python",
   "nbconvert_exporter": "python",
   "pygments_lexer": "ipython3",
   "version": "3.11.4"
  }
 },
 "nbformat": 4,
 "nbformat_minor": 5
}
