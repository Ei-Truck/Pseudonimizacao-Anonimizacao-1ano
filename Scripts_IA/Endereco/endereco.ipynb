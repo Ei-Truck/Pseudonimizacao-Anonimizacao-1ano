{
 "cells": [
  {
   "cell_type": "code",
   "execution_count": null,
   "id": "5bfd3253",
   "metadata": {},
   "outputs": [],
   "source": [
    "import os\n",
    "from dotenv import load_dotenv\n",
    "import pandas as pd\n",
    "from sqlalchemy import create_engine\n",
    "from IPython.display import display\n"
   ]
  },
  {
   "cell_type": "code",
   "execution_count": 2,
   "id": "aa744eeb",
   "metadata": {},
   "outputs": [],
   "source": [
    "\n",
    "load_dotenv()\n",
    "\n",
    "DB_HOST = os.getenv(\"DB_HOST\")\n",
    "DB_PORT = os.getenv(\"DB_PORT\")\n",
    "DB_ENTRADA = os.getenv(\"DB_ENTRADA\")\n",
    "DB_SAI = os.getenv(\"DB_SAI\")\n",
    "DB_USER = os.getenv(\"DB_USER\")\n",
    "DB_PASSWORD = os.getenv(\"DB_PASSWORD\")\n",
    "\n",
    "ENTRADA = f\"postgresql://{DB_USER}:{DB_PASSWORD}@{DB_HOST}:{DB_PORT}/{DB_ENTRADA}\"\n",
    "SAIDA = f'postgresql://{DB_USER}:{DB_PASSWORD}@{DB_HOST}:{DB_PORT}/{DB_SAI}'\n",
    "\n",
    "engine_entrada = create_engine(ENTRADA)\n",
    "engine_saida = create_engine(SAIDA)\n",
    "\n",
    "\n",
    "query = \"SELECT * FROM endereco\"\n",
    "dados_originais_df = pd.read_sql(query, engine_entrada)\n",
    "df_anonimizado = dados_originais_df.copy()\n"
   ]
  },
  {
   "cell_type": "code",
   "execution_count": null,
   "id": "9c0ab63a",
   "metadata": {},
   "outputs": [
    {
     "name": "stdout",
     "output_type": "stream",
     "text": [
      "==== Dados anonimizados ====\n"
     ]
    },
    {
     "data": {
      "text/html": [
       "<div>\n",
       "<style scoped>\n",
       "    .dataframe tbody tr th:only-of-type {\n",
       "        vertical-align: middle;\n",
       "    }\n",
       "\n",
       "    .dataframe tbody tr th {\n",
       "        vertical-align: top;\n",
       "    }\n",
       "\n",
       "    .dataframe thead th {\n",
       "        text-align: right;\n",
       "    }\n",
       "</style>\n",
       "<table border=\"1\" class=\"dataframe\">\n",
       "  <thead>\n",
       "    <tr style=\"text-align: right;\">\n",
       "      <th></th>\n",
       "      <th>rua</th>\n",
       "    </tr>\n",
       "  </thead>\n",
       "  <tbody>\n",
       "    <tr>\n",
       "      <th>0</th>\n",
       "      <td>Avenida X</td>\n",
       "    </tr>\n",
       "    <tr>\n",
       "      <th>1</th>\n",
       "      <td>Rua X</td>\n",
       "    </tr>\n",
       "    <tr>\n",
       "      <th>2</th>\n",
       "      <td>Rua X</td>\n",
       "    </tr>\n",
       "    <tr>\n",
       "      <th>3</th>\n",
       "      <td>Rua X</td>\n",
       "    </tr>\n",
       "    <tr>\n",
       "      <th>4</th>\n",
       "      <td>Avenida X</td>\n",
       "    </tr>\n",
       "  </tbody>\n",
       "</table>\n",
       "</div>"
      ],
      "text/plain": [
       "         rua\n",
       "0  Avenida X\n",
       "1      Rua X\n",
       "2      Rua X\n",
       "3      Rua X\n",
       "4  Avenida X"
      ]
     },
     "metadata": {},
     "output_type": "display_data"
    }
   ],
   "source": [
    "def generalizar_rua(rua):\n",
    "    if not isinstance(rua, str):\n",
    "        return \"Rua desconhecida\"\n",
    "    tipo = rua.split()[0]  \n",
    "    return f\"{tipo} X\"\n",
    "\n",
    "df_anonimizado[\"rua\"] = df_anonimizado[\"rua\"].map(generalizar_rua)\n",
    "print(\"==== Dados anonimizados ====\")\n",
    "display(df_anonimizado[[\"rua\"]])"
   ]
  },
  {
   "cell_type": "code",
   "execution_count": 6,
   "id": "9989a07f",
   "metadata": {},
   "outputs": [
    {
     "name": "stdout",
     "output_type": "stream",
     "text": [
      "==== Dados anonimizados ====\n"
     ]
    },
    {
     "data": {
      "text/html": [
       "<div>\n",
       "<style scoped>\n",
       "    .dataframe tbody tr th:only-of-type {\n",
       "        vertical-align: middle;\n",
       "    }\n",
       "\n",
       "    .dataframe tbody tr th {\n",
       "        vertical-align: top;\n",
       "    }\n",
       "\n",
       "    .dataframe thead th {\n",
       "        text-align: right;\n",
       "    }\n",
       "</style>\n",
       "<table border=\"1\" class=\"dataframe\">\n",
       "  <thead>\n",
       "    <tr style=\"text-align: right;\">\n",
       "      <th></th>\n",
       "      <th>cidade</th>\n",
       "    </tr>\n",
       "  </thead>\n",
       "  <tbody>\n",
       "    <tr>\n",
       "      <th>0</th>\n",
       "      <td>Cidade X</td>\n",
       "    </tr>\n",
       "    <tr>\n",
       "      <th>1</th>\n",
       "      <td>Cidade X</td>\n",
       "    </tr>\n",
       "    <tr>\n",
       "      <th>2</th>\n",
       "      <td>Cidade X</td>\n",
       "    </tr>\n",
       "    <tr>\n",
       "      <th>3</th>\n",
       "      <td>Cidade X</td>\n",
       "    </tr>\n",
       "    <tr>\n",
       "      <th>4</th>\n",
       "      <td>Cidade X</td>\n",
       "    </tr>\n",
       "  </tbody>\n",
       "</table>\n",
       "</div>"
      ],
      "text/plain": [
       "     cidade\n",
       "0  Cidade X\n",
       "1  Cidade X\n",
       "2  Cidade X\n",
       "3  Cidade X\n",
       "4  Cidade X"
      ]
     },
     "metadata": {},
     "output_type": "display_data"
    }
   ],
   "source": [
    "def generalizar_cidade(cidade):\n",
    "    if not isinstance(cidade, str):\n",
    "        return \"Cidade desconhecida\"\n",
    "    tipo = cidade.split()[0]  \n",
    "    return f\"Cidade X\"\n",
    "\n",
    "df_anonimizado[\"cidade\"] = df_anonimizado[\"cidade\"].map(generalizar_cidade)\n",
    "print(\"==== Dados anonimizados ====\")\n",
    "display(df_anonimizado[[\"cidade\"]])"
   ]
  },
  {
   "cell_type": "code",
   "execution_count": 7,
   "id": "87e4f3da",
   "metadata": {},
   "outputs": [
    {
     "name": "stdout",
     "output_type": "stream",
     "text": [
      "==== Dados anonimizados ====\n"
     ]
    },
    {
     "data": {
      "text/html": [
       "<div>\n",
       "<style scoped>\n",
       "    .dataframe tbody tr th:only-of-type {\n",
       "        vertical-align: middle;\n",
       "    }\n",
       "\n",
       "    .dataframe tbody tr th {\n",
       "        vertical-align: top;\n",
       "    }\n",
       "\n",
       "    .dataframe thead th {\n",
       "        text-align: right;\n",
       "    }\n",
       "</style>\n",
       "<table border=\"1\" class=\"dataframe\">\n",
       "  <thead>\n",
       "    <tr style=\"text-align: right;\">\n",
       "      <th></th>\n",
       "      <th>numero</th>\n",
       "    </tr>\n",
       "  </thead>\n",
       "  <tbody>\n",
       "    <tr>\n",
       "      <th>0</th>\n",
       "      <td>*****</td>\n",
       "    </tr>\n",
       "    <tr>\n",
       "      <th>1</th>\n",
       "      <td>*****</td>\n",
       "    </tr>\n",
       "    <tr>\n",
       "      <th>2</th>\n",
       "      <td>*****</td>\n",
       "    </tr>\n",
       "    <tr>\n",
       "      <th>3</th>\n",
       "      <td>*****</td>\n",
       "    </tr>\n",
       "    <tr>\n",
       "      <th>4</th>\n",
       "      <td>*****</td>\n",
       "    </tr>\n",
       "  </tbody>\n",
       "</table>\n",
       "</div>"
      ],
      "text/plain": [
       "  numero\n",
       "0  *****\n",
       "1  *****\n",
       "2  *****\n",
       "3  *****\n",
       "4  *****"
      ]
     },
     "metadata": {},
     "output_type": "display_data"
    }
   ],
   "source": [
    "def anonimizar_numero(numero, chave):\n",
    "    numero = str(numero)\n",
    "    chave = str(chave).lower()\n",
    "    i = 0\n",
    "    for l in numero:\n",
    "        return \"*****\"\n",
    "\n",
    "chave = 5\n",
    "\n",
    "df_anonimizado[\"numero\"] = df_anonimizado[\"numero\"].apply(lambda x: anonimizar_numero(x, chave))\n",
    "\n",
    "print(\"==== Dados anonimizados ====\")\n",
    "display(df_anonimizado[[\"numero\"]])\n",
    "\n"
   ]
  },
  {
   "cell_type": "code",
   "execution_count": 8,
   "id": "fb2e072f",
   "metadata": {},
   "outputs": [
    {
     "name": "stdout",
     "output_type": "stream",
     "text": [
      "==== Dados anonimizados ====\n"
     ]
    },
    {
     "data": {
      "text/html": [
       "<div>\n",
       "<style scoped>\n",
       "    .dataframe tbody tr th:only-of-type {\n",
       "        vertical-align: middle;\n",
       "    }\n",
       "\n",
       "    .dataframe tbody tr th {\n",
       "        vertical-align: top;\n",
       "    }\n",
       "\n",
       "    .dataframe thead th {\n",
       "        text-align: right;\n",
       "    }\n",
       "</style>\n",
       "<table border=\"1\" class=\"dataframe\">\n",
       "  <thead>\n",
       "    <tr style=\"text-align: right;\">\n",
       "      <th></th>\n",
       "      <th>pais</th>\n",
       "    </tr>\n",
       "  </thead>\n",
       "  <tbody>\n",
       "    <tr>\n",
       "      <th>0</th>\n",
       "      <td>BR</td>\n",
       "    </tr>\n",
       "    <tr>\n",
       "      <th>1</th>\n",
       "      <td>BR</td>\n",
       "    </tr>\n",
       "    <tr>\n",
       "      <th>2</th>\n",
       "      <td>BR</td>\n",
       "    </tr>\n",
       "    <tr>\n",
       "      <th>3</th>\n",
       "      <td>BR</td>\n",
       "    </tr>\n",
       "    <tr>\n",
       "      <th>4</th>\n",
       "      <td>BR</td>\n",
       "    </tr>\n",
       "  </tbody>\n",
       "</table>\n",
       "</div>"
      ],
      "text/plain": [
       "  pais\n",
       "0   BR\n",
       "1   BR\n",
       "2   BR\n",
       "3   BR\n",
       "4   BR"
      ]
     },
     "metadata": {},
     "output_type": "display_data"
    }
   ],
   "source": [
    "def abstracao_pais(pais):\n",
    "    \n",
    "    pais= pais.strip()\n",
    "\n",
    "    uf = pais[:2].upper()\n",
    "    return f\"{uf}\"\n",
    "\n",
    "df_anonimizado[\"pais\"] = df_anonimizado[\"pais\"].apply(abstracao_pais)\n",
    "\n",
    "print(\"==== Dados anonimizados ====\")\n",
    "display(df_anonimizado[[\"pais\"]])\n",
    "\n"
   ]
  },
  {
   "cell_type": "code",
   "execution_count": 9,
   "id": "f22a5c80",
   "metadata": {},
   "outputs": [
    {
     "name": "stdout",
     "output_type": "stream",
     "text": [
      "==== Dados anonimizados ====\n"
     ]
    },
    {
     "data": {
      "text/html": [
       "<div>\n",
       "<style scoped>\n",
       "    .dataframe tbody tr th:only-of-type {\n",
       "        vertical-align: middle;\n",
       "    }\n",
       "\n",
       "    .dataframe tbody tr th {\n",
       "        vertical-align: top;\n",
       "    }\n",
       "\n",
       "    .dataframe thead th {\n",
       "        text-align: right;\n",
       "    }\n",
       "</style>\n",
       "<table border=\"1\" class=\"dataframe\">\n",
       "  <thead>\n",
       "    <tr style=\"text-align: right;\">\n",
       "      <th></th>\n",
       "      <th>bairro</th>\n",
       "    </tr>\n",
       "  </thead>\n",
       "  <tbody>\n",
       "    <tr>\n",
       "      <th>0</th>\n",
       "      <td>Centro</td>\n",
       "    </tr>\n",
       "    <tr>\n",
       "      <th>1</th>\n",
       "      <td>Zona Sul</td>\n",
       "    </tr>\n",
       "    <tr>\n",
       "      <th>2</th>\n",
       "      <td>Zona Leste</td>\n",
       "    </tr>\n",
       "    <tr>\n",
       "      <th>3</th>\n",
       "      <td>Zona Leste</td>\n",
       "    </tr>\n",
       "    <tr>\n",
       "      <th>4</th>\n",
       "      <td>Zona Oeste</td>\n",
       "    </tr>\n",
       "  </tbody>\n",
       "</table>\n",
       "</div>"
      ],
      "text/plain": [
       "       bairro\n",
       "0      Centro\n",
       "1    Zona Sul\n",
       "2  Zona Leste\n",
       "3  Zona Leste\n",
       "4  Zona Oeste"
      ]
     },
     "metadata": {},
     "output_type": "display_data"
    }
   ],
   "source": [
    "bairro_para_regiao = {\n",
    "    \"Bela Vista\": \"Centro\",\n",
    "    \"Vila Mariana\": \"Zona Sul\",\n",
    "    \"Pinheiros\": \"Zona Oeste\",\n",
    "    \"Vila Carrão\": \"Zona Leste\",\n",
    "    \"Mooca\": \"Zona Leste\"\n",
    "}\n",
    "\n",
    "\n",
    "df_anonimizado[\"bairro\"] = df_anonimizado[\"bairro\"].map(bairro_para_regiao)\n",
    "\n",
    "df_anonimizado[\"bairro\"] = df_anonimizado[\"bairro\"].fillna(\"Região desconhecida\")\n",
    "\n",
    "print(\"==== Dados anonimizados ====\")\n",
    "display(df_anonimizado[[\"bairro\"]])\n"
   ]
  },
  {
   "cell_type": "code",
   "execution_count": 10,
   "id": "5dbdb44b",
   "metadata": {},
   "outputs": [
    {
     "name": "stdout",
     "output_type": "stream",
     "text": [
      "==== Dados anonimizados ====\n"
     ]
    },
    {
     "data": {
      "text/html": [
       "<div>\n",
       "<style scoped>\n",
       "    .dataframe tbody tr th:only-of-type {\n",
       "        vertical-align: middle;\n",
       "    }\n",
       "\n",
       "    .dataframe tbody tr th {\n",
       "        vertical-align: top;\n",
       "    }\n",
       "\n",
       "    .dataframe thead th {\n",
       "        text-align: right;\n",
       "    }\n",
       "</style>\n",
       "<table border=\"1\" class=\"dataframe\">\n",
       "  <thead>\n",
       "    <tr style=\"text-align: right;\">\n",
       "      <th></th>\n",
       "      <th>cep</th>\n",
       "    </tr>\n",
       "  </thead>\n",
       "  <tbody>\n",
       "    <tr>\n",
       "      <th>0</th>\n",
       "      <td>********</td>\n",
       "    </tr>\n",
       "    <tr>\n",
       "      <th>1</th>\n",
       "      <td>********</td>\n",
       "    </tr>\n",
       "    <tr>\n",
       "      <th>2</th>\n",
       "      <td>********</td>\n",
       "    </tr>\n",
       "    <tr>\n",
       "      <th>3</th>\n",
       "      <td>********</td>\n",
       "    </tr>\n",
       "    <tr>\n",
       "      <th>4</th>\n",
       "      <td>********</td>\n",
       "    </tr>\n",
       "  </tbody>\n",
       "</table>\n",
       "</div>"
      ],
      "text/plain": [
       "        cep\n",
       "0  ********\n",
       "1  ********\n",
       "2  ********\n",
       "3  ********\n",
       "4  ********"
      ]
     },
     "metadata": {},
     "output_type": "display_data"
    }
   ],
   "source": [
    "def anonimizar_digitos(valor):\n",
    "    valor_str = str(valor)\n",
    "    valor_anonimizado = ''.join('*' if caractere.isdigit() else caractere for caractere in valor_str)\n",
    "    return valor_anonimizado\n",
    "\n",
    "df_anonimizado[\"cep\"] = df_anonimizado[\"cep\"].map(anonimizar_digitos)\n",
    "\n",
    "print(\"==== Dados anonimizados ====\")\n",
    "display(df_anonimizado[[\"cep\"]])"
   ]
  },
  {
   "cell_type": "code",
   "execution_count": 11,
   "id": "d11566d1",
   "metadata": {},
   "outputs": [
    {
     "data": {
      "text/html": [
       "<div>\n",
       "<style scoped>\n",
       "    .dataframe tbody tr th:only-of-type {\n",
       "        vertical-align: middle;\n",
       "    }\n",
       "\n",
       "    .dataframe tbody tr th {\n",
       "        vertical-align: top;\n",
       "    }\n",
       "\n",
       "    .dataframe thead th {\n",
       "        text-align: right;\n",
       "    }\n",
       "</style>\n",
       "<table border=\"1\" class=\"dataframe\">\n",
       "  <thead>\n",
       "    <tr style=\"text-align: right;\">\n",
       "      <th></th>\n",
       "      <th>id</th>\n",
       "      <th>cep</th>\n",
       "      <th>rua</th>\n",
       "      <th>numero</th>\n",
       "      <th>bairro</th>\n",
       "      <th>cidade</th>\n",
       "      <th>estado</th>\n",
       "      <th>pais</th>\n",
       "    </tr>\n",
       "  </thead>\n",
       "  <tbody>\n",
       "    <tr>\n",
       "      <th>0</th>\n",
       "      <td>1</td>\n",
       "      <td>********</td>\n",
       "      <td>Avenida X</td>\n",
       "      <td>*****</td>\n",
       "      <td>Centro</td>\n",
       "      <td>Cidade X</td>\n",
       "      <td>SP</td>\n",
       "      <td>BR</td>\n",
       "    </tr>\n",
       "    <tr>\n",
       "      <th>1</th>\n",
       "      <td>2</td>\n",
       "      <td>********</td>\n",
       "      <td>Rua X</td>\n",
       "      <td>*****</td>\n",
       "      <td>Zona Sul</td>\n",
       "      <td>Cidade X</td>\n",
       "      <td>SP</td>\n",
       "      <td>BR</td>\n",
       "    </tr>\n",
       "    <tr>\n",
       "      <th>2</th>\n",
       "      <td>4</td>\n",
       "      <td>********</td>\n",
       "      <td>Rua X</td>\n",
       "      <td>*****</td>\n",
       "      <td>Zona Leste</td>\n",
       "      <td>Cidade X</td>\n",
       "      <td>SP</td>\n",
       "      <td>BR</td>\n",
       "    </tr>\n",
       "    <tr>\n",
       "      <th>3</th>\n",
       "      <td>5</td>\n",
       "      <td>********</td>\n",
       "      <td>Rua X</td>\n",
       "      <td>*****</td>\n",
       "      <td>Zona Leste</td>\n",
       "      <td>Cidade X</td>\n",
       "      <td>SP</td>\n",
       "      <td>BR</td>\n",
       "    </tr>\n",
       "    <tr>\n",
       "      <th>4</th>\n",
       "      <td>3</td>\n",
       "      <td>********</td>\n",
       "      <td>Avenida X</td>\n",
       "      <td>*****</td>\n",
       "      <td>Zona Oeste</td>\n",
       "      <td>Cidade X</td>\n",
       "      <td>RJ</td>\n",
       "      <td>BR</td>\n",
       "    </tr>\n",
       "  </tbody>\n",
       "</table>\n",
       "</div>"
      ],
      "text/plain": [
       "   id       cep        rua numero      bairro    cidade estado pais\n",
       "0   1  ********  Avenida X  *****      Centro  Cidade X     SP   BR\n",
       "1   2  ********      Rua X  *****    Zona Sul  Cidade X     SP   BR\n",
       "2   4  ********      Rua X  *****  Zona Leste  Cidade X     SP   BR\n",
       "3   5  ********      Rua X  *****  Zona Leste  Cidade X     SP   BR\n",
       "4   3  ********  Avenida X  *****  Zona Oeste  Cidade X     RJ   BR"
      ]
     },
     "metadata": {},
     "output_type": "display_data"
    }
   ],
   "source": [
    "display(df_anonimizado)"
   ]
  },
  {
   "cell_type": "code",
   "execution_count": 12,
   "id": "54b3e4c0",
   "metadata": {},
   "outputs": [
    {
     "data": {
      "text/plain": [
       "5"
      ]
     },
     "execution_count": 12,
     "metadata": {},
     "output_type": "execute_result"
    }
   ],
   "source": [
    "from sqlalchemy import text\n",
    "\n",
    "with engine_saida.begin() as conn:\n",
    "    # por depender de outras tabelas, limpa a tabela sem quebrar FK e reinicia o ID\n",
    "    conn.execute(text(\"TRUNCATE TABLE endereco RESTART IDENTITY CASCADE\"))\n",
    "\n",
    "df_anonimizado.to_sql(name='endereco', con=engine_saida, if_exists='append', index=False)\n",
    "\n"
   ]
  },
  {
   "cell_type": "code",
   "execution_count": 13,
   "id": "1b5423f4",
   "metadata": {},
   "outputs": [],
   "source": [
    "#mandar para o csv\n",
    "dados_originais_df.to_csv('original_endereco.csv')\n",
    "df_anonimizado.to_csv('pseudo_endereco.csv')"
   ]
  }
 ],
 "metadata": {
  "kernelspec": {
   "display_name": "base",
   "language": "python",
   "name": "python3"
  },
  "language_info": {
   "codemirror_mode": {
    "name": "ipython",
    "version": 3
   },
   "file_extension": ".py",
   "mimetype": "text/x-python",
   "name": "python",
   "nbconvert_exporter": "python",
   "pygments_lexer": "ipython3",
   "version": "3.11.4"
  }
 },
 "nbformat": 4,
 "nbformat_minor": 5
}
