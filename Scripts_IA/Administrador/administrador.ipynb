{
 "cells": [
  {
   "cell_type": "code",
   "execution_count": null,
   "id": "d033338e",
   "metadata": {},
   "outputs": [],
   "source": [
    "import os\n",
    "from dotenv import load_dotenv\n",
    "import pandas as pd\n",
    "from sqlalchemy import create_engine\n",
    "from IPython.display import display\n",
    "import bcrypt\n",
    "\n"
   ]
  },
  {
   "cell_type": "code",
   "execution_count": null,
   "id": "a7331866",
   "metadata": {},
   "outputs": [],
   "source": [
    "load_dotenv()\n",
    "\n",
    "DB_HOST = os.getenv(\"DB_HOST\")\n",
    "DB_PORT = os.getenv(\"DB_PORT\")\n",
    "DB_ENTRADA = os.getenv(\"DB_ENTRADA\")\n",
    "DB_SAI = os.getenv(\"DB_SAI\")\n",
    "DB_USER = os.getenv(\"DB_USER\")\n",
    "DB_PASSWORD = os.getenv(\"DB_PASSWORD\")\n",
    "\n",
    "ENTRADA = f\"postgresql://{DB_USER}:{DB_PASSWORD}@{DB_HOST}:{DB_PORT}/{DB_ENTRADA}\"\n",
    "SAIDA = f'postgresql://{DB_USER}:{DB_PASSWORD}@{DB_HOST}:{DB_PORT}/{DB_SAI}'\n",
    "\n",
    "engine_entrada = create_engine(ENTRADA)\n",
    "engine_saida = create_engine(SAIDA)\n",
    "\n",
    "\n",
    "query = \"SELECT * FROM Administrador\"\n",
    "dados_originais_df = pd.read_sql(query, engine_entrada)\n",
    "df_anon_admin = dados_originais_df.copy()\n"
   ]
  },
  {
   "cell_type": "code",
   "execution_count": null,
   "id": "5bc55ece",
   "metadata": {},
   "outputs": [],
   "source": [
    "def anonimizar_telefone(valor):\n",
    "    valor_str = str(valor)\n",
    "    valor_anonimizado = ''.join('*' if caractere.isdigit() else caractere for caractere in valor_str)\n",
    "    return valor_anonimizado\n",
    "\n",
    "df_anon_admin[\"telefone\"] = df_anon_admin[\"telefone\"].map(anonimizar_telefone)\n",
    "\n",
    "\n"
   ]
  },
  {
   "cell_type": "code",
   "execution_count": null,
   "id": "038d2467",
   "metadata": {},
   "outputs": [],
   "source": [
    "def anonimizar_cpf(valor):\n",
    "    valor_str = str(valor)\n",
    "    valor_anonimizado = ''.join('*' if caractere.isdigit() else caractere for caractere in valor_str)\n",
    "    return valor_anonimizado\n",
    "\n",
    "df_anon_admin[\"cpf\"] = df_anon_admin[\"cpf\"].map(anonimizar_cpf)\n"
   ]
  },
  {
   "cell_type": "code",
   "execution_count": null,
   "id": "b7da7a87",
   "metadata": {},
   "outputs": [],
   "source": [
    "def criptografar_senha(senha):\n",
    "    \n",
    "    salt = bcrypt.gensalt()\n",
    "    hash_senha = bcrypt.hashpw(senha.encode('utf-8'), salt)\n",
    "    return hash_senha.decode('utf-8')\n",
    "\n",
    "def verificar_senha(senha_digitada, senha_criptografada):\n",
    "\n",
    "    return bcrypt.checkpw(senha_digitada.encode('utf-8'), senha_criptografada.encode('utf-8'))\n",
    "\n",
    "df_anon_admin[\"senha\"] = df_anon_admin[\"senha\"].apply(criptografar_senha)\n",
    "\n",
    "\n",
    "\n",
    "\n"
   ]
  },
  {
   "cell_type": "code",
   "execution_count": null,
   "id": "d5241378",
   "metadata": {},
   "outputs": [],
   "source": [
    "\n",
    "def anonimizar_email(email):\n",
    "    email = str(email)\n",
    "    parte_local, dominio = email.split(\"@\")\n",
    "  \n",
    "    if len(parte_local) > 3:\n",
    "        parte_local_pseudo = parte_local[:0] + \"****\"\n",
    "    else:\n",
    "        parte_local_pseudo = parte_local + \"****\"\n",
    "    return parte_local_pseudo + \"@\" + dominio\n",
    "\n",
    "df_anon_admin[\"email\"] = df_anon_admin[\"email\"].apply(anonimizar_email)\n"
   ]
  },
  {
   "cell_type": "code",
   "execution_count": null,
   "id": "48edc969",
   "metadata": {},
   "outputs": [],
   "source": [
    "df_anon_admin[\"nome_completo\"] = list(map(\n",
    "    lambda i: f\"Administrador {i+1}\", \n",
    "    range(len(df_anon_admin))\n",
    "))\n",
    "\n",
    "\n"
   ]
  },
  {
   "cell_type": "code",
   "execution_count": null,
   "id": "86a2d75f",
   "metadata": {},
   "outputs": [],
   "source": [
    "dados_originais_df.to_csv('original_administrador.csv')\n",
    "df_anon_admin.to_csv('pseudo_administrador.csv')"
   ]
  },
  {
   "cell_type": "code",
   "execution_count": null,
   "id": "acdebd4d",
   "metadata": {},
   "outputs": [],
   "source": [
    "df_anon_admin.to_sql(name='administrador', con=engine_saida, if_exists='replace', index=False)"
   ]
  }
 ],
 "metadata": {
  "kernelspec": {
   "display_name": "base",
   "language": "python",
   "name": "python3"
  },
  "language_info": {
   "codemirror_mode": {
    "name": "ipython",
    "version": 3
   },
   "file_extension": ".py",
   "mimetype": "text/x-python",
   "name": "python",
   "nbconvert_exporter": "python",
   "pygments_lexer": "ipython3",
   "version": "3.11.4"
  }
 },
 "nbformat": 4,
 "nbformat_minor": 5
}
